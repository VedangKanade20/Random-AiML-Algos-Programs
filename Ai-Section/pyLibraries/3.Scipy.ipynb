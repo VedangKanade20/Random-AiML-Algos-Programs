{
 "cells": [
  {
   "cell_type": "code",
   "execution_count": null,
   "id": "9bbee4c5",
   "metadata": {
    "vscode": {
     "languageId": "plaintext"
    }
   },
   "outputs": [],
   "source": [
    "from scipy import linalg\n",
    "import numpy as np\n",
    "\n",
    "A = np.array([[1,2], [4,5]])\n",
    "print(linalg.det(A))\n",
    "print(linalg.inv(A))\n",
    "#print(linalg.solve(A))"
   ]
  }
 ],
 "metadata": {
  "language_info": {
   "name": "python"
  }
 },
 "nbformat": 4,
 "nbformat_minor": 5
}
