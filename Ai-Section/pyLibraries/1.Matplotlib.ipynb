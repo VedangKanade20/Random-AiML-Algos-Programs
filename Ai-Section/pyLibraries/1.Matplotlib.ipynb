{
 "cells": [
  {
   "cell_type": "code",
   "execution_count": null,
   "id": "26cd6187",
   "metadata": {
    "vscode": {
     "languageId": "plaintext"
    }
   },
   "outputs": [],
   "source": [
    "!pip install matplotlib"
   ]
  },
  {
   "cell_type": "code",
   "execution_count": null,
   "id": "6bf83b2e",
   "metadata": {
    "vscode": {
     "languageId": "plaintext"
    }
   },
   "outputs": [],
   "source": [
    "#scatter\n",
    "\n",
    "from matplotlib import pyplot as plt\n",
    "x = [2, 5, 9, 4, 7]  # X-axis values (e.g., time)\n",
    "y = [10, 5, 9, 4, 2] # Y-axis values (e.g., height)\n",
    "plt.scatter(x, y)\n",
    "plt.title(\"Your Graph Title\")\n",
    "plt.xlabel(\"X-Axis Name\")\n",
    "plt.ylabel(\"Y-Axis Name\")\n",
    "plt.show()\n"
   ]
  },
  {
   "cell_type": "code",
   "execution_count": null,
   "id": "f3b8c90b",
   "metadata": {
    "vscode": {
     "languageId": "plaintext"
    }
   },
   "outputs": [],
   "source": [
    "#line plot\n",
    "\n",
    "from matplotlib import pyplot as plt\n",
    "x = [2, 5, 9, 4, 7]  # X-axis values (e.g., time)\n",
    "y = [10, 5, 9, 4, 2] # Y-axis values (e.g., height)\n",
    "plt.plot(x, y)\n",
    "plt.title(\"Your Graph Title\")\n",
    "plt.xlabel(\"X-Axis Name\")\n",
    "plt.ylabel(\"Y-Axis Name\")\n",
    "plt.show()"
   ]
  },
  {
   "cell_type": "code",
   "execution_count": null,
   "id": "56b7a80b",
   "metadata": {
    "vscode": {
     "languageId": "plaintext"
    }
   },
   "outputs": [],
   "source": [
    "\n",
    "#Histogram\n",
    "\n",
    "from matplotlib import pyplot as plt\n",
    "x = [2, 5, 9, 4, 7]  # X-axis values (e.g., time)\n",
    "y = [10, 5, 9, 4, 2] # Y-axis values (e.g., height)\n",
    "plt.hist(y)\n",
    "plt.title(\"Your Graph Title\")\n",
    "plt.xlabel(\"X-Axis Name\")\n",
    "plt.ylabel(\"Y-Axis Name\")\n",
    "plt.show()"
   ]
  },
  {
   "cell_type": "code",
   "execution_count": null,
   "id": "3b923d14",
   "metadata": {
    "vscode": {
     "languageId": "plaintext"
    }
   },
   "outputs": [],
   "source": [
    "# all three in one\n",
    "\n",
    "from matplotlib import pyplot as plt\n",
    "\n",
    "# Data\n",
    "x = [2, 5, 9, 4, 7]\n",
    "y = [10, 5, 9, 4, 2]\n",
    "\n",
    "# Scatter Plot\n",
    "plt.scatter(x, y)\n",
    "plt.title(\"Scatter Plot\")\n",
    "plt.xlabel(\"Time\")\n",
    "plt.ylabel(\"Position\")\n",
    "plt.show()\n",
    "\n",
    "# Line Plot\n",
    "plt.plot(x, y)\n",
    "plt.title(\"Line Plot\")\n",
    "plt.xlabel(\"Time\")\n",
    "plt.ylabel(\"Position\")\n",
    "plt.show()\n",
    "\n",
    "# Histogram (only y values needed)\n",
    "plt.hist(y)\n",
    "plt.title(\"Histogram\")\n",
    "plt.xlabel(\"Values\")\n",
    "plt.ylabel(\"Frequency\")\n",
    "plt.show()\n"
   ]
  }
 ],
 "metadata": {
  "language_info": {
   "name": "python"
  }
 },
 "nbformat": 4,
 "nbformat_minor": 5
}
