{
 "cells": [
  {
   "cell_type": "code",
   "execution_count": null,
   "id": "ae8c99f2",
   "metadata": {
    "vscode": {
     "languageId": "plaintext"
    }
   },
   "outputs": [],
   "source": [
    "from sklearn.linear_model import LogisticRegression\n",
    "\n",
    "x = [[45], [50], [80], [90]]\n",
    "y= [0,0,1,1]\n",
    "\n",
    "model = LogisticRegression()\n",
    "model.fit(x,y)\n",
    "\n",
    "print(model.predict([[70]]))"
   ]
  }
 ],
 "metadata": {
  "language_info": {
   "name": "python"
  }
 },
 "nbformat": 4,
 "nbformat_minor": 5
}
