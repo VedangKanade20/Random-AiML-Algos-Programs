{
 "cells": [
  {
   "cell_type": "code",
   "execution_count": null,
   "id": "bea48ba7",
   "metadata": {
    "vscode": {
     "languageId": "plaintext"
    }
   },
   "outputs": [],
   "source": [
    "import numpy as np\n",
    "#add\n",
    "a = np.array([2,3,4,5]) #1d array \n",
    "b = np.array( [3,5,7,9]) #2d array \n",
    "print(np.add(a, b))"
   ]
  },
  {
   "cell_type": "code",
   "execution_count": null,
   "id": "48b306c5",
   "metadata": {
    "vscode": {
     "languageId": "plaintext"
    }
   },
   "outputs": [],
   "source": [
    "# 4. Sort\n",
    "m = np.array([[7,4,1],[2,8,5],[9,6,3]])\n",
    "print(np.sort(m))  # Each row sorted"
   ]
  },
  {
   "cell_type": "code",
   "execution_count": null,
   "id": "067bf35a",
   "metadata": {
    "vscode": {
     "languageId": "plaintext"
    }
   },
   "outputs": [],
   "source": [
    "# 5. Transpose\n",
    "print(m.T)  # Flips matrix (rows become columns)"
   ]
  }
 ],
 "metadata": {
  "language_info": {
   "name": "python"
  }
 },
 "nbformat": 4,
 "nbformat_minor": 5
}
