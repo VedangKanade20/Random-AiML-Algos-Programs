{
 "cells": [
  {
   "cell_type": "code",
   "execution_count": null,
   "id": "19e0449a",
   "metadata": {
    "vscode": {
     "languageId": "plaintext"
    }
   },
   "outputs": [],
   "source": [
    "import numpy as np\n",
    "import matplotlib.pyplot as plt\n",
    "\n",
    "# 1. Generate sample data (y = 4 + 3x + noise)\n",
    "np.random.seed(42)\n",
    "X = 2 * np.random.rand(100, 1)\n",
    "y = 4 + 3 * X + np.random.randn(100, 1)\n",
    "\n",
    "# 2. Function to perform SGD\n",
    "def sgd(X, y, learning_rate=0.1, epochs=1000):\n",
    "    m = len(X)  # number of samples\n",
    "    theta = np.random.randn(2, 1)  # random weights [bias, slope]\n",
    "\n",
    "    # Add 1s column to X for bias term\n",
    "    X_bias = np.c_[np.ones((m, 1)), X]\n",
    "    cost_history = []\n",
    "\n",
    "    for epoch in range(epochs):\n",
    "        for i in range(m):\n",
    "            rand_index = np.random.randint(m)\n",
    "            xi = X_bias[rand_index:rand_index+1]\n",
    "            yi = y[rand_index:rand_index+1]\n",
    "\n",
    "            # Gradient and update\n",
    "            gradient = 2 * xi.T.dot(xi.dot(theta) - yi)\n",
    "            theta -= learning_rate * gradient\n",
    "\n",
    "        # Calculate cost (MSE)\n",
    "        predictions = X_bias.dot(theta)\n",
    "        cost = np.mean((predictions - y) ** 2)\n",
    "        cost_history.append(cost)\n",
    "\n",
    "        if epoch % 100 == 0:\n",
    "            print(f\"Epoch {epoch}, Cost: {cost:.4f}\")\n",
    "\n",
    "    return theta, cost_history\n",
    "\n",
    "# 3. Train the model\n",
    "theta_final, cost_history = sgd(X, y)\n",
    "\n",
    "# 4. Plot cost over time\n",
    "plt.plot(cost_history)\n",
    "plt.xlabel('Epochs')\n",
    "plt.ylabel('Cost')\n",
    "plt.title('Training Cost')\n",
    "plt.show()\n",
    "\n",
    "# 5. Plot regression line\n",
    "plt.scatter(X, y, color='blue', label='Data')\n",
    "plt.plot(X, np.c_[np.ones((len(X), 1)), X].dot(theta_final), color='red', label='Line')\n",
    "plt.xlabel('X')\n",
    "plt.ylabel('y')\n",
    "plt.title('Linear Fit using SGD')\n",
    "plt.legend()\n",
    "plt.show()\n"
   ]
  }
 ],
 "metadata": {
  "language_info": {
   "name": "python"
  }
 },
 "nbformat": 4,
 "nbformat_minor": 5
}
