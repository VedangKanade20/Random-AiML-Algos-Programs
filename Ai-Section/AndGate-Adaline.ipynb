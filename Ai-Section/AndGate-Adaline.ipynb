{
 "cells": [
  {
   "cell_type": "code",
   "execution_count": null,
   "id": "50ba443e",
   "metadata": {
    "vscode": {
     "languageId": "plaintext"
    }
   },
   "outputs": [],
   "source": [
    "import numpy as np\n",
    "\n",
    "# Step 1: Inputs and outputs for AND gate\n",
    "X = np.array([[0,0], [0,1], [1,0], [1,1]])\n",
    "y = np.array([0, 0, 0, 1])\n",
    "\n",
    "# Step 2: Initialize weights, bias, learning rate, and epochs\n",
    "weights = np.zeros(2)\n",
    "bias = 0\n",
    "lr = 0.1\n",
    "epochs = 100\n",
    "\n",
    "# Step 3: Training loop\n",
    "for _ in range(epochs):\n",
    "    for i in range(len(X)):\n",
    "        # Predict output (linear)\n",
    "        pred = np.dot(X[i], weights) + bias\n",
    "        \n",
    "        # Calculate error\n",
    "        error = y[i] - pred\n",
    "        \n",
    "        # Update weights and bias\n",
    "        weights += lr * error * X[i]\n",
    "        bias += lr * error\n",
    "\n",
    "# Step 4: Testing predictions with threshold 0.5\n",
    "for i in range(len(X)):\n",
    "    pred = np.dot(X[i], weights) + bias\n",
    "    output = 1 if pred >= 0.5 else 0\n",
    "    print(f\"Input: {X[i]} => Predicted: {output} => Actual: {y[i]}\")\n"
   ]
  }
 ],
 "metadata": {
  "language_info": {
   "name": "python"
  }
 },
 "nbformat": 4,
 "nbformat_minor": 5
}
