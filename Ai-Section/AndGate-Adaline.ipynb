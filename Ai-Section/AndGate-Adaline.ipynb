{
 "cells": [
  {
   "cell_type": "code",
   "execution_count": null,
   "id": "50ba443e",
   "metadata": {
    "vscode": {
     "languageId": "plaintext"
    }
   },
   "outputs": [],
   "source": [
    "# AND gate using perceptron (short version)\n",
    "\n",
    "inputs = [[0, 0], [0, 1], [1, 0], [1, 1]]\n",
    "outputs = [0, 0, 0, 1]\n",
    "\n",
    "w1, w2, b = 0, 0, 0\n",
    "lr = 0.1\n",
    "\n",
    "# Training the perceptron\n",
    "for _ in range(10):\n",
    "    for i in range(4):\n",
    "        x1, x2 = inputs[i]\n",
    "        y = outputs[i]\n",
    "        z = x1 * w1 + x2 * w2 + b\n",
    "        y_pred = 1 if z >= 0 else 0\n",
    "        error = y - y_pred\n",
    "        w1 += lr * error * x1\n",
    "        w2 += lr * error * x2\n",
    "        b += lr * error\n",
    "\n",
    "# Final output\n",
    "for x1, x2 in inputs:\n",
    "    z = x1 * w1 + x2 * w2 + b\n",
    "    print(f\"{x1},{x2} -> {1 if z >= 0 else 0}\")\n"
   ]
  }
 ],
 "metadata": {
  "language_info": {
   "name": "python"
  }
 },
 "nbformat": 4,
 "nbformat_minor": 5
}
