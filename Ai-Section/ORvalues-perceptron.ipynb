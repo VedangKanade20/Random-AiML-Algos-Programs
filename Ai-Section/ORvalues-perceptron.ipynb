{
 "cells": [
  {
   "cell_type": "code",
   "execution_count": null,
   "id": "cd033ec5",
   "metadata": {
    "vscode": {
     "languageId": "plaintext"
    }
   },
   "outputs": [],
   "source": [
    "import numpy as np\n",
    "\n",
    "# Step 1: Inputs and outputs for OR gate\n",
    "X = np.array([[0,0], [0,1], [1,0], [1,1]])  # Inputs\n",
    "y = np.array([0, 1, 1, 1])                 # Outputs\n",
    "\n",
    "# Step 2: Initialize weights and bias\n",
    "weights = np.zeros(2)  # Two inputs => two weights\n",
    "bias = 0\n",
    "lr = 0.1               # Learning rate\n",
    "\n",
    "# Step 3: Train for few epochs\n",
    "for _ in range(5):\n",
    "    for i in range(len(X)):\n",
    "        z = np.dot(X[i], weights) + bias\n",
    "        pred = 1 if z >= 0 else 0\n",
    "        error = y[i] - pred\n",
    "        weights += lr * error * X[i]\n",
    "        bias += lr * error\n",
    "\n",
    "# Step 4: Test the perceptron\n",
    "for i in range(len(X)):\n",
    "    z = np.dot(X[i], weights) + bias\n",
    "    output = 1 if z >= 0 else 0\n",
    "    print(f\"Input: {X[i]} → Output: {output}\")\n"
   ]
  }
 ],
 "metadata": {
  "language_info": {
   "name": "python"
  }
 },
 "nbformat": 4,
 "nbformat_minor": 5
}
