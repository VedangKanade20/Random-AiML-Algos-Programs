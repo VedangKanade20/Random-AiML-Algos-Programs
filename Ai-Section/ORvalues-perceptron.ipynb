{
 "cells": [
  {
   "cell_type": "code",
   "execution_count": null,
   "id": "cd033ec5",
   "metadata": {
    "vscode": {
     "languageId": "plaintext"
    }
   },
   "outputs": [],
   "source": [
    "# OR Gate using Perceptron\n",
    "\n",
    "# Inputs and Expected Outputs for OR gate\n",
    "inputs = [\n",
    "    [0, 0],\n",
    "    [0, 1],\n",
    "    [1, 0],\n",
    "    [1, 1]\n",
    "]\n",
    "\n",
    "expected_outputs = [0, 1, 1, 1]\n",
    "\n",
    "# Define weights and bias for OR gate\n",
    "w1 = 1\n",
    "w2 = 1\n",
    "bias = -0.5\n",
    "\n",
    "# Activation function (Step function)\n",
    "def activation(x):\n",
    "    return 1 if x >= 0 else 0\n",
    "\n",
    "# OR Gate using Perceptron logic\n",
    "print(\"OR Gate using Perceptron:\\n\")\n",
    "for i in range(len(inputs)):\n",
    "    x1 = inputs[i][0]\n",
    "    x2 = inputs[i][1]\n",
    "    linear_output = w1 * x1 + w2 * x2 + bias\n",
    "    y = activation(linear_output)\n",
    "    print(f\"Input: ({x1}, {x2}) => Output: {y} (Expected: {expected_outputs[i]})\")\n"
   ]
  }
 ],
 "metadata": {
  "language_info": {
   "name": "python"
  }
 },
 "nbformat": 4,
 "nbformat_minor": 5
}
